{
 "cells": [
  {
   "cell_type": "code",
   "execution_count": 207,
   "metadata": {},
   "outputs": [],
   "source": [
    "import matplotlib.pyplot as plt\n",
    "from random import randrange\n",
    "from random import sample\n",
    "import glob\n",
    "from os import popen\n",
    "from PIL import Image, ImageDraw"
   ]
  },
  {
   "cell_type": "code",
   "execution_count": 199,
   "metadata": {},
   "outputs": [
    {
     "data": {
      "text/plain": [
       "<os._wrap_close at 0x7f8719e23890>"
      ]
     },
     "execution_count": 199,
     "metadata": {},
     "output_type": "execute_result"
    }
   ],
   "source": [
    "popen('rm -f robot_*.png')"
   ]
  },
  {
   "cell_type": "code",
   "execution_count": 46,
   "metadata": {},
   "outputs": [],
   "source": [
    "def entorno(n):\n",
    "    coord = [i + 0.5 for i in range(n)]\n",
    "    grid  = [(i,j) for i in coord for j in coord]\n",
    "    data  = {i:'limpio' for i in grid}\n",
    "    \n",
    "    s = randrange(n*n)\n",
    "    sucios = sample(list(data),s)\n",
    "    \n",
    "    for i in sucios:\n",
    "        data[i] = 'sucio'\n",
    "        \n",
    "    return(data)"
   ]
  },
  {
   "cell_type": "code",
   "execution_count": 47,
   "metadata": {},
   "outputs": [],
   "source": [
    "def grid(data,robot,t):\n",
    "    x = [x for (x,y) in list(data) if data[(x,y)]=='sucio']\n",
    "    y = [y for (x,y) in list(data) if data[(x,y)]=='sucio']\n",
    "    \n",
    "    rx = robot[0]\n",
    "    ry = robot[1]\n",
    "    a=rx\n",
    "    b=ry\n",
    "    lm = data[(rx,ry)]\n",
    "    st = 'Estado actual: ' + lm\n",
    "    \n",
    "    if lm == 'sucio':\n",
    "        acc = 'Ejecutando: Limpiar'\n",
    "        data[(rx,ry)]= 'limpio'\n",
    "    \n",
    "    else:\n",
    "        m = ['arriba', 'izquierda', 'derecha', 'abajo'] \n",
    "        if ry==7.5:\n",
    "            m.remove('arriba')\n",
    "        if ry==0.5:\n",
    "            m.remove('abajo')\n",
    "        if rx==0.5:\n",
    "            m.remove('izquierda')\n",
    "        if rx==7.5:\n",
    "            m.remove('derecha')\n",
    "        \n",
    "        g = sample(m,1)\n",
    "        acc = 'Moverse a: ' + g[0]\n",
    "        \n",
    "        if g == ['arriba']:\n",
    "            ry=ry+1\n",
    "\n",
    "        elif g == ['abajo']:\n",
    "            ry=ry-1\n",
    "\n",
    "        elif g ==['derecha']:\n",
    "            rx=rx+1\n",
    "\n",
    "        else:\n",
    "            rx=rx-1\n",
    "    \n",
    "    if t==0:\n",
    "        ps = 'Posición inicial del Robot: (%i,%i)' %(a+1,b+1)\n",
    "    else:\n",
    "        ps = 'Posición actual del Robot: (%i,%i)' %(a+1,b+1)\n",
    "    \n",
    "    fig, ax = plt.subplots()\n",
    "    scatter = ax.scatter(x,y, c='gray', s=600)\n",
    "    scatter = ax.scatter(a, b, c='r', s=600)\n",
    "    scatter = ax.scatter(0,0, c='w', s=0.01, label=ps)\n",
    "    scatter = ax.scatter(0,0, c='w', s=0.01, label=st)\n",
    "    scatter = ax.scatter(0,0, c='w', s=0.01, label=acc)\n",
    "    plt.grid(True)\n",
    "    plt.xlim(0,n)\n",
    "    plt.ylim(0,n)\n",
    "    box = ax.get_position()\n",
    "    ax.set_position([box.x0, box.y0, box.width * 0.8, box.height])\n",
    "\n",
    "    # Put a legend to the right of the current axis\n",
    "    ax.legend(loc='center left', bbox_to_anchor=(1, 0.5))\n",
    "    plt.title('{:s} Paso {:d}'.format('Robot Aspirador', t))\n",
    "    plt.savefig('robot_' + format(t, '0{:d}'.format(8)) + '.png', bbox_inches='tight')\n",
    "    #plt.close() \n",
    "    \n",
    "\n",
    "        \n",
    "    return(rx,ry)"
   ]
  },
  {
   "cell_type": "code",
   "execution_count": 208,
   "metadata": {},
   "outputs": [],
   "source": [
    "fp_in = \"robot_*.png\"\n",
    "fp_out = \"robots2.gif\"\n",
    "\n",
    "# https://pillow.readthedocs.io/en/stable/handbook/image-file-formats.html#gif\n",
    "img, *imgs = [Image.open(f) for f in sorted(glob.glob(fp_in))]\n",
    "img.save(fp=fp_out, format='GIF', append_images=imgs,\n",
    "         save_all=True, duration=200, loop=0)"
   ]
  },
  {
   "cell_type": "code",
   "execution_count": 136,
   "metadata": {
    "jupyter": {
     "source_hidden": true
    }
   },
   "outputs": [],
   "source": [
    "def grid_inicial(data,robot,t):\n",
    "    x = [x for (x,y) in list(data) if data[(x,y)]=='sucio']\n",
    "    y = [y for (x,y) in list(data) if data[(x,y)]=='sucio']\n",
    "    \n",
    "    rx = robot[0]\n",
    "    ry = robot[1]\n",
    "    a=rx\n",
    "    b=ry\n",
    "    lm = data[(rx,ry)]\n",
    "    st = 'Estado actual: ' + lm\n",
    "    \n",
    "    if rx != 0.5:\n",
    "        acc= 'Moverse a: izquierda'\n",
    "        rx = rx-1\n",
    "        \n",
    "    elif ry!=0.5:\n",
    "        acc='Moverse a abajo'\n",
    "        ry = ry-1\n",
    "        \n",
    "    else:\n",
    "        acc='Llegaste al inicio'\n",
    "\n",
    "    if t==0:\n",
    "        ps = 'Posición inicial del Robot: (%i,%i)' %(a+1,b+1)\n",
    "    else:\n",
    "        ps = 'Posición actual del Robot: (%i,%i)' %(a+1,b+1)\n",
    "    \n",
    "    fig, ax = plt.subplots()\n",
    "    scatter = ax.scatter(x,y, c='gray', s=600)\n",
    "    scatter = ax.scatter(a, b, c='r', s=600)\n",
    "    scatter = ax.scatter(0,0, c='w', s=0.01, label=ps)\n",
    "    scatter = ax.scatter(0,0, c='w', s=0.01, label=st)\n",
    "    scatter = ax.scatter(0,0, c='w', s=0.01, label=acc)\n",
    "    plt.grid(True)\n",
    "    plt.xlim(0,n)\n",
    "    plt.ylim(0,n)\n",
    "    box = ax.get_position()\n",
    "    ax.set_position([box.x0, box.y0, box.width * 0.8, box.height])\n",
    "\n",
    "    # Put a legend to the right of the current axis\n",
    "    ax.legend(loc='center left', bbox_to_anchor=(1, 0.5))\n",
    "    plt.title('{:s} Paso {:d}'.format('Robot Aspirador', t))\n",
    "    plt.savefig('robot_' + format(t, '0{:d}'.format(8)) + '.png', bbox_inches='tight')\n",
    "    #plt.close() \n",
    "    \n",
    "\n",
    "        \n",
    "    return(rx,ry)"
   ]
  },
  {
   "cell_type": "code",
   "execution_count": 136,
   "metadata": {
    "jupyter": {
     "source_hidden": true
    }
   },
   "outputs": [],
   "source": [
    "def grid_limpiar(data,robot,t):\n",
    "    x = [x for (x,y) in list(data) if data[(x,y)]=='sucio']\n",
    "    y = [y for (x,y) in list(data) if data[(x,y)]=='sucio']\n",
    "    \n",
    "    rx = robot[0]\n",
    "    ry = robot[1]\n",
    "    a=rx\n",
    "    b=ry\n",
    "    lm = data[(rx,ry)]\n",
    "    st = 'Estado actual: ' + lm\n",
    "    else:\n",
    "        m = ['arriba', 'izquierda', 'derecha'] \n",
    "        if ry==7.5:\n",
    "            m.remove('arriba')\n",
    "        if ry==0.5:\n",
    "            m.remove('abajo')\n",
    "        if rx==0.5:\n",
    "            m.remove('izquierda')\n",
    "        if rx==7.5:\n",
    "            m.remove('derecha')\n",
    "        \n",
    "        g = sample(m,1)\n",
    "        acc = 'Moverse a: ' + g[0]\n",
    "        \n",
    "        if g == ['arriba']:\n",
    "            ry=ry+1\n",
    "\n",
    "        elif g == ['abajo']:\n",
    "            ry=ry-1\n",
    "\n",
    "        elif g ==['derecha']:\n",
    "            rx=rx+1\n",
    "\n",
    "        else:\n",
    "            rx=rx-1\n",
    "    \n",
    "    \n",
    "\n",
    "    if t==0:\n",
    "        ps = 'Posición inicial del Robot: (%i,%i)' %(a+1,b+1)\n",
    "    else:\n",
    "        ps = 'Posición actual del Robot: (%i,%i)' %(a+1,b+1)\n",
    "    \n",
    "    fig, ax = plt.subplots()\n",
    "    scatter = ax.scatter(x,y, c='gray', s=600)\n",
    "    scatter = ax.scatter(a, b, c='r', s=600)\n",
    "    scatter = ax.scatter(0,0, c='w', s=0.01, label=ps)\n",
    "    scatter = ax.scatter(0,0, c='w', s=0.01, label=st)\n",
    "    scatter = ax.scatter(0,0, c='w', s=0.01, label=acc)\n",
    "    plt.grid(True)\n",
    "    plt.xlim(0,n)\n",
    "    plt.ylim(0,n)\n",
    "    box = ax.get_position()\n",
    "    ax.set_position([box.x0, box.y0, box.width * 0.8, box.height])\n",
    "\n",
    "    # Put a legend to the right of the current axis\n",
    "    ax.legend(loc='center left', bbox_to_anchor=(1, 0.5))\n",
    "    plt.title('{:s} Paso {:d}'.format('Robot Aspirador', t))\n",
    "    plt.savefig('robot_' + format(t, '0{:d}'.format(8)) + '.png', bbox_inches='tight')\n",
    "    #plt.close() \n",
    "    \n",
    "\n",
    "        \n",
    "    return(rx,ry)"
   ]
  },
  {
   "cell_type": "code",
   "execution_count": 198,
   "metadata": {},
   "outputs": [],
   "source": [
    "def grid2(data,robot,t):\n",
    "    x = [x for (x,y) in list(data) if data[(x,y)]=='sucio']\n",
    "    y = [y for (x,y) in list(data) if data[(x,y)]=='sucio']\n",
    "    \n",
    "    rx = robot[0]\n",
    "    ry = robot[1]\n",
    "    \n",
    "    rx2 = robot[2]\n",
    "    ry2 = robot[3]\n",
    "    \n",
    "    a=rx\n",
    "    b=ry\n",
    "    \n",
    "    c=rx2\n",
    "    d=ry2\n",
    "    \n",
    "    lm1 = data[(rx,ry)]\n",
    "    st1 = '(1)Estado actual: ' + lm1\n",
    "    \n",
    "    lm2 = data[(rx2,ry2)]\n",
    "    st2 = '(2)Estado actual: ' + lm2\n",
    "    \n",
    "    if lm1 == 'sucio':\n",
    "        acc1 = '(1)Ejecutando: Limpiar'\n",
    "        data[(rx,ry)]= 'limpio'\n",
    "    \n",
    "    else:\n",
    "        m = mov(rx,ry)\n",
    "        if m[0]==rx2 and m[2]==ry2:\n",
    "            acc1 = '(1) No me muevo, posición ocupada'\n",
    "        else:\n",
    "            rx = m[0]\n",
    "            ry = m[1]\n",
    "            acc1 = '(1)Moverse a: ' + m[2]\n",
    "        \n",
    "    if lm2 == 'sucio':\n",
    "        acc2 = '(2)Ejecutando: Limpiar'\n",
    "        data[(rx2, ry2)] = 'limpio'\n",
    "    \n",
    "    else:\n",
    "        q = mov(rx2,ry2)\n",
    "        if q[0]==rx and q[1]==ry:\n",
    "            acc2= '(2) No me muevo, posición ocupada'\n",
    "        else:\n",
    "            rx2 = q[0]\n",
    "            ry2 = q[1]\n",
    "            acc2 = '(2)Moverse a: ' + q[2]\n",
    "    \n",
    "    if t==0:\n",
    "        ps1 = 'Posición inicial del Robot(1): (%i,%i)' %(a+1,b+1)\n",
    "        ps2 = 'Posición inicial del Robot(2): (%i,%i)' %(c+1,d+1)\n",
    "    else:\n",
    "        ps1 = 'Posición actual del Robot(1): (%i,%i)' %(a+1,b+1)\n",
    "        ps2 = 'Posición actual del Robot(2): (%i,%i)' %(c+1,d+1)\n",
    "    \n",
    "    fig, ax = plt.subplots()\n",
    "    scatter = ax.scatter(x,y, c='gray', s=600)\n",
    "    scatter = ax.scatter(a, b, c='r', s=600)\n",
    "    scatter = ax.scatter(c, d, c='b', s=600)\n",
    "    scatter = ax.scatter(0,0, c='w', s=0.01, label=ps1)\n",
    "    scatter = ax.scatter(0,0, c='w', s=0.01, label=ps2)\n",
    "    scatter = ax.scatter(0,0, c='w', s=0.01, label=st1)\n",
    "    scatter = ax.scatter(0,0, c='w', s=0.01, label=st2)\n",
    "    scatter = ax.scatter(0,0, c='w', s=0.01, label=acc1)\n",
    "    scatter = ax.scatter(0,0, c='w', s=0.01, label=acc2)\n",
    "    plt.grid(True)\n",
    "    plt.xlim(0,n)\n",
    "    plt.ylim(0,n)\n",
    "    box = ax.get_position()\n",
    "    ax.set_position([box.x0, box.y0, box.width * 0.8, box.height])\n",
    "\n",
    "    # Put a legend to the right of the current axis\n",
    "    ax.legend(loc='center left', bbox_to_anchor=(1, 0.5))\n",
    "    plt.title('{:s} Paso {:d}'.format('Robot Aspirador', t))\n",
    "    plt.savefig('robot_' + format(t, '0{:d}'.format(8)) + '.png', bbox_inches='tight')\n",
    "    plt.close() \n",
    "    \n",
    "\n",
    "        \n",
    "    return(rx,ry,rx2,ry2)"
   ]
  },
  {
   "cell_type": "code",
   "execution_count": 166,
   "metadata": {},
   "outputs": [],
   "source": [
    "def mov(x,y):\n",
    "    m = ['arriba', 'izquierda', 'derecha', 'abajo'] \n",
    "    if y==7.5:\n",
    "        m.remove('arriba')\n",
    "    if y==0.5:\n",
    "        m.remove('abajo')\n",
    "    if x==0.5:\n",
    "        m.remove('izquierda')\n",
    "    if x==7.5:\n",
    "        m.remove('derecha')\n",
    "        \n",
    "    g = sample(m,1)\n",
    "    \n",
    "        \n",
    "    if g == ['arriba']:\n",
    "        y=y+1\n",
    "\n",
    "    elif g == ['abajo']:\n",
    "        y=y-1\n",
    "        \n",
    "    elif g ==['derecha']:\n",
    "        x=x+1\n",
    "\n",
    "    else:\n",
    "        x=x-1\n",
    "    \n",
    "    r = [x,y,g[0]]\n",
    "    return(r)"
   ]
  },
  {
   "cell_type": "code",
   "execution_count": 167,
   "metadata": {},
   "outputs": [
    {
     "data": {
      "text/plain": [
       "[3.5, 2.5, 'izquierda']"
      ]
     },
     "execution_count": 167,
     "metadata": {},
     "output_type": "execute_result"
    }
   ],
   "source": [
    "mov(4.5,2.5)"
   ]
  },
  {
   "cell_type": "code",
   "execution_count": null,
   "metadata": {},
   "outputs": [],
   "source": [
    "n=8\n",
    "data=entorno(n)\n",
    "coord=[i+0.5 for i in range(n)]\n",
    "robot=sample(coord,2)\n",
    "robot = grid(data,robot,0)\n",
    "pos = []\n",
    "pos.append((robot[0],robot[1]))\n",
    "\n",
    "t=0\n",
    "while len(pos)<n*n: \n",
    "    robot=grid(data,robot,t+1)\n",
    "    pos.append(robot)\n",
    "    pos=list(set(pos))\n",
    "    t=t+1\n",
    "    "
   ]
  },
  {
   "cell_type": "code",
   "execution_count": 169,
   "metadata": {},
   "outputs": [],
   "source": [
    "robot=sample(coord,4)"
   ]
  },
  {
   "cell_type": "code",
   "execution_count": 170,
   "metadata": {},
   "outputs": [
    {
     "data": {
      "text/plain": [
       "[2.5, 3.5, 5.5, 6.5]"
      ]
     },
     "execution_count": 170,
     "metadata": {},
     "output_type": "execute_result"
    }
   ],
   "source": [
    "robot"
   ]
  },
  {
   "cell_type": "code",
   "execution_count": 151,
   "metadata": {},
   "outputs": [],
   "source": [
    "n=8\n",
    "data=entorno(n)"
   ]
  },
  {
   "cell_type": "code",
   "execution_count": 194,
   "metadata": {},
   "outputs": [
    {
     "data": {
      "image/png": "[encoded data removed]",
      "text/plain": [
       "<Figure size 432x288 with 1 Axes>"
      ]
     },
     "metadata": {
      "needs_background": "light"
     },
     "output_type": "display_data"
    }
   ],
   "source": [
    "robot=grid2(data,robot,0)"
   ]
  },
  {
   "cell_type": "code",
   "execution_count": 197,
   "metadata": {},
   "outputs": [],
   "source": [
    "for w in range (50):\n",
    "    robot = grid2(data,robot,w)"
   ]
  },
  {
   "cell_type": "code",
   "execution_count": 188,
   "metadata": {},
   "outputs": [
    {
     "data": {
      "image/png": "[encoded data removed]",
      "text/plain": [
       "<Figure size 432x288 with 1 Axes>"
      ]
     },
     "metadata": {
      "needs_background": "light"
     },
     "output_type": "display_data"
    }
   ],
   "source": [
    "robot=grid2(data,robot,1)"
   ]
  },
  {
   "cell_type": "code",
   "execution_count": 202,
   "metadata": {},
   "outputs": [],
   "source": [
    "n=8\n",
    "data=entorno(n)\n",
    "coord=[i+0.5 for i in range(n)]\n",
    "robot=sample(coord,4)\n",
    "\n",
    "pos1 = []\n",
    "pos2 = []\n",
    "pos1.append((robot[0],robot[1]))\n",
    "pos2.append((robot[2],robot[3]))\n",
    "\n",
    "t=0\n",
    "while len(pos1)<n*n and len(pos2)<n*n: \n",
    "    robot=grid2(data,robot,t+1)\n",
    "    pos1.append((robot[0],robot[1]))\n",
    "    pos1=list(set(pos1))\n",
    "    \n",
    "    pos2.append((robot[2],robot[3]))\n",
    "    pos2=list(set(pos2))\n",
    "    \n",
    "    \n",
    "    t=t+1\n",
    "    "
   ]
  },
  {
   "cell_type": "code",
   "execution_count": 203,
   "metadata": {},
   "outputs": [
    {
     "data": {
      "text/plain": [
       "<os._wrap_close at 0x7f871baaf850>"
      ]
     },
     "execution_count": 203,
     "metadata": {},
     "output_type": "execute_result"
    }
   ],
   "source": [
    "popen('convert -delay 100 -size 300x300 robot_*.png -loop 0 robots.gif')"
   ]
  },
  {
   "cell_type": "code",
   "execution_count": null,
   "metadata": {},
   "outputs": [],
   "source": []
  }
 ],
 "metadata": {
  "kernelspec": {
   "display_name": "Python 3",
   "language": "python",
   "name": "python3"
  },
  "language_info": {
   "codemirror_mode": {
    "name": "ipython",
    "version": 3
   },
   "file_extension": ".py",
   "mimetype": "text/x-python",
   "name": "python",
   "nbconvert_exporter": "python",
   "pygments_lexer": "ipython3",
   "version": "3.7.9"
  }
 },
 "nbformat": 4,
 "nbformat_minor": 4
}
